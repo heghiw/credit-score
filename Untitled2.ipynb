{
  "nbformat": 4,
  "nbformat_minor": 0,
  "metadata": {
    "colab": {
      "provenance": [],
      "authorship_tag": "ABX9TyOdGIcvJi6X/xeDbTqdZRA1",
      "include_colab_link": true
    },
    "kernelspec": {
      "name": "python3",
      "display_name": "Python 3"
    },
    "language_info": {
      "name": "python"
    }
  },
  "cells": [
    {
      "cell_type": "markdown",
      "metadata": {
        "id": "view-in-github",
        "colab_type": "text"
      },
      "source": [
        "<a href=\"https://colab.research.google.com/github/heghiw/credit-score/blob/main/Untitled2.ipynb\" target=\"_parent\"><img src=\"https://colab.research.google.com/assets/colab-badge.svg\" alt=\"Open In Colab\"/></a>"
      ]
    },
    {
      "cell_type": "markdown",
      "source": [
        "# **Problem Statement **\n",
        "\n",
        "\n",
        "Banks run into losses when a customer doesn't pay their loans on time. Because of this, every year, banks have losses in crores, and this also impacts the country's economic growth to a large extent. In this hackathon, we look at various attributes such as funded amount, location, loan, balance, etc., to predict if a person will be a loan defaulter or not."
      ],
      "metadata": {
        "id": "e53fnAdIls9Y"
      }
    },
    {
      "cell_type": "markdown",
      "source": [
        "imports"
      ],
      "metadata": {
        "id": "8rYmPEfXhRIe"
      }
    },
    {
      "cell_type": "code",
      "source": [
        "from pyspark.sql import SparkSession\n",
        "import kagglehub\n",
        "from pyspark.sql.functions import col, isnan, when, count"
      ],
      "metadata": {
        "id": "Z7Y4G0ONh3Le"
      },
      "execution_count": null,
      "outputs": []
    },
    {
      "cell_type": "markdown",
      "source": [
        "data"
      ],
      "metadata": {
        "id": "4z5TQjnRiHyl"
      }
    },
    {
      "cell_type": "code",
      "source": [
        "path = kagglehub.dataset_download(\"ankitkalauni/bank-loan-defaulter-prediction-hackathon\")\n",
        "\n"
      ],
      "metadata": {
        "id": "bhQ0qV9ki-Ln"
      },
      "execution_count": null,
      "outputs": []
    },
    {
      "cell_type": "code",
      "source": [
        "# create spark session\n",
        "spark = SparkSession.builder \\\n",
        "    .appName(\"CreditScoreClassification\") \\\n",
        "    .getOrCreate()\n",
        "\n",
        "# read the dataset\n",
        "df = spark.read.csv(path, header=True, inferSchema=True)\n",
        "\n",
        "# show the first 5 rows\n",
        "df.show(5)\n"
      ],
      "metadata": {
        "colab": {
          "base_uri": "https://localhost:8080/"
        },
        "id": "KVK3uL90hyaM",
        "outputId": "d56861e5-c5f8-4632-8c86-ce416ec62947"
      },
      "execution_count": null,
      "outputs": [
        {
          "output_type": "stream",
          "name": "stdout",
          "text": [
            "+--------+-----------+-------------+----------------------+----+--------------+-------------+-----+---------+-------------------+--------------+-------------------+------------+--------------------+---------------+-----------------------+---------------------+------------+-------------+-----------------+-------------------+--------------+-------------------+-----------------------+-----------------------+------------------+-----------------------+----------------------------+----------------+-------------+-------------------+-----------------------+---------------------+----------------------------+-----------+\n",
            "|      ID|Loan Amount|Funded Amount|Funded Amount Investor|Term|Batch Enrolled|Interest Rate|Grade|Sub Grade|Employment Duration|Home Ownership|Verification Status|Payment Plan|          Loan Title|Debit to Income|Delinquency - two years|Inquires - six months|Open Account|Public Record|Revolving Balance|Revolving Utilities|Total Accounts|Initial List Status|Total Received Interest|Total Received Late Fee|        Recoveries|Collection Recovery Fee|Collection 12 months Medical|Application Type|Last week Pay|Accounts Delinquent|Total Collection Amount|Total Current Balance|Total Revolving Credit Limit|Loan Status|\n",
            "+--------+-----------+-------------+----------------------+----+--------------+-------------+-----+---------+-------------------+--------------+-------------------+------------+--------------------+---------------+-----------------------+---------------------+------------+-------------+-----------------+-------------------+--------------+-------------------+-----------------------+-----------------------+------------------+-----------------------+----------------------------+----------------+-------------+-------------------+-----------------------+---------------------+----------------------------+-----------+\n",
            "|65087372|      10000|        32236|           12329.36286|  59|    BAT2522922|  11.13500686|    B|       C4|           MORTGAGE|   176346.6267|       Not Verified|           n|  Debt Consolidation|    16.28475781|                      1|                    0|          13|            0|            24246|        74.93255103|             7|                  w|            2929.646315|    0.10205519800000001|       2.498290962|             0.79372376|                           0|      INDIVIDUAL|           49|                  0|                     31|               311301|                        6619|          0|\n",
            "| 1450153|       3609|        11940|           12191.99692|  59|    BAT1586599|  12.23756263|    C|       D3|               RENT|     39833.921|    Source Verified|           n|  Debt consolidation|    15.41240945|                      0|                    0|          12|            0|              812|        78.29718601|            13|                  f|      772.7693849999999|             0.03618117|       2.377214756|            0.974821103|                           0|      INDIVIDUAL|          109|                  0|                     53|               182610|                       20885|          0|\n",
            "| 1969101|      28276|         9311|           21603.22455|  59|    BAT2136391|  12.54588365|    F|       D4|           MORTGAGE|   91506.69105|    Source Verified|           n|  Debt Consolidation|    28.13761862|                      0|                    0|          14|            0|             1843|        2.073039873|            20|                  w|            863.3243956|            18.77866007|4.3162773439999995|            1.020074954|                           0|      INDIVIDUAL|           66|                  0|                     34|                89801|                       26155|          0|\n",
            "| 6651430|      11170|         6954|           17877.15585|  59|    BAT2428731|  16.73120146|    C|       C3|           MORTGAGE|   108286.5759|    Source Verified|           n|  Debt consolidation|    18.04373003|                      1|                    0|           7|            0|            13819|        67.46795121|            12|                  w|             288.173196|            0.044131373|       0.107020281|     0.7499709929999999|                           0|      INDIVIDUAL|           39|                  0|                     40|                 9189|                       60214|          0|\n",
            "|14354669|      16890|        13226|    13539.926669999999|  59|    BAT5341619|  15.00830022|    C|       D4|           MORTGAGE|   44234.82545|    Source Verified|           n|Credit card refin...|    17.20988604|                      1|                    3|          13|            1|             1544|        85.25076114|            22|                  w|            129.2395533|            19.30664639|       1294.818751|    0.36895291799999996|                           0|      INDIVIDUAL|           18|                  0|                    430|               126029|                       22579|          0|\n",
            "+--------+-----------+-------------+----------------------+----+--------------+-------------+-----+---------+-------------------+--------------+-------------------+------------+--------------------+---------------+-----------------------+---------------------+------------+-------------+-----------------+-------------------+--------------+-------------------+-----------------------+-----------------------+------------------+-----------------------+----------------------------+----------------+-------------+-------------------+-----------------------+---------------------+----------------------------+-----------+\n",
            "only showing top 5 rows\n",
            "\n"
          ]
        }
      ]
    },
    {
      "cell_type": "markdown",
      "source": [
        "# **Block 1 **\n",
        " **Data Cleaning and Exploration**"
      ],
      "metadata": {
        "id": "SEbuCKyVk2YQ"
      }
    },
    {
      "cell_type": "code",
      "source": [
        "df.printSchema()\n",
        "df.show(5)"
      ],
      "metadata": {
        "colab": {
          "base_uri": "https://localhost:8080/"
        },
        "id": "1q0jIt47k1pf",
        "outputId": "1c826376-0a69-435d-e6a8-97135718911c"
      },
      "execution_count": null,
      "outputs": [
        {
          "output_type": "stream",
          "name": "stdout",
          "text": [
            "root\n",
            " |-- ID: string (nullable = true)\n",
            " |-- Loan Amount: integer (nullable = true)\n",
            " |-- Funded Amount: integer (nullable = true)\n",
            " |-- Funded Amount Investor: double (nullable = true)\n",
            " |-- Term: integer (nullable = true)\n",
            " |-- Batch Enrolled: string (nullable = true)\n",
            " |-- Interest Rate: double (nullable = true)\n",
            " |-- Grade: string (nullable = true)\n",
            " |-- Sub Grade: string (nullable = true)\n",
            " |-- Employment Duration: string (nullable = true)\n",
            " |-- Home Ownership: double (nullable = true)\n",
            " |-- Verification Status: string (nullable = true)\n",
            " |-- Payment Plan: string (nullable = true)\n",
            " |-- Loan Title: string (nullable = true)\n",
            " |-- Debit to Income: double (nullable = true)\n",
            " |-- Delinquency - two years: integer (nullable = true)\n",
            " |-- Inquires - six months: integer (nullable = true)\n",
            " |-- Open Account: integer (nullable = true)\n",
            " |-- Public Record: integer (nullable = true)\n",
            " |-- Revolving Balance: integer (nullable = true)\n",
            " |-- Revolving Utilities: double (nullable = true)\n",
            " |-- Total Accounts: integer (nullable = true)\n",
            " |-- Initial List Status: string (nullable = true)\n",
            " |-- Total Received Interest: double (nullable = true)\n",
            " |-- Total Received Late Fee: double (nullable = true)\n",
            " |-- Recoveries: double (nullable = true)\n",
            " |-- Collection Recovery Fee: double (nullable = true)\n",
            " |-- Collection 12 months Medical: integer (nullable = true)\n",
            " |-- Application Type: string (nullable = true)\n",
            " |-- Last week Pay: integer (nullable = true)\n",
            " |-- Accounts Delinquent: integer (nullable = true)\n",
            " |-- Total Collection Amount: integer (nullable = true)\n",
            " |-- Total Current Balance: integer (nullable = true)\n",
            " |-- Total Revolving Credit Limit: integer (nullable = true)\n",
            " |-- Loan Status: integer (nullable = true)\n",
            "\n",
            "+--------+-----------+-------------+----------------------+----+--------------+-------------+-----+---------+-------------------+--------------+-------------------+------------+--------------------+---------------+-----------------------+---------------------+------------+-------------+-----------------+-------------------+--------------+-------------------+-----------------------+-----------------------+------------------+-----------------------+----------------------------+----------------+-------------+-------------------+-----------------------+---------------------+----------------------------+-----------+\n",
            "|      ID|Loan Amount|Funded Amount|Funded Amount Investor|Term|Batch Enrolled|Interest Rate|Grade|Sub Grade|Employment Duration|Home Ownership|Verification Status|Payment Plan|          Loan Title|Debit to Income|Delinquency - two years|Inquires - six months|Open Account|Public Record|Revolving Balance|Revolving Utilities|Total Accounts|Initial List Status|Total Received Interest|Total Received Late Fee|        Recoveries|Collection Recovery Fee|Collection 12 months Medical|Application Type|Last week Pay|Accounts Delinquent|Total Collection Amount|Total Current Balance|Total Revolving Credit Limit|Loan Status|\n",
            "+--------+-----------+-------------+----------------------+----+--------------+-------------+-----+---------+-------------------+--------------+-------------------+------------+--------------------+---------------+-----------------------+---------------------+------------+-------------+-----------------+-------------------+--------------+-------------------+-----------------------+-----------------------+------------------+-----------------------+----------------------------+----------------+-------------+-------------------+-----------------------+---------------------+----------------------------+-----------+\n",
            "|65087372|      10000|        32236|           12329.36286|  59|    BAT2522922|  11.13500686|    B|       C4|           MORTGAGE|   176346.6267|       Not Verified|           n|  Debt Consolidation|    16.28475781|                      1|                    0|          13|            0|            24246|        74.93255103|             7|                  w|            2929.646315|    0.10205519800000001|       2.498290962|             0.79372376|                           0|      INDIVIDUAL|           49|                  0|                     31|               311301|                        6619|          0|\n",
            "| 1450153|       3609|        11940|           12191.99692|  59|    BAT1586599|  12.23756263|    C|       D3|               RENT|     39833.921|    Source Verified|           n|  Debt consolidation|    15.41240945|                      0|                    0|          12|            0|              812|        78.29718601|            13|                  f|      772.7693849999999|             0.03618117|       2.377214756|            0.974821103|                           0|      INDIVIDUAL|          109|                  0|                     53|               182610|                       20885|          0|\n",
            "| 1969101|      28276|         9311|           21603.22455|  59|    BAT2136391|  12.54588365|    F|       D4|           MORTGAGE|   91506.69105|    Source Verified|           n|  Debt Consolidation|    28.13761862|                      0|                    0|          14|            0|             1843|        2.073039873|            20|                  w|            863.3243956|            18.77866007|4.3162773439999995|            1.020074954|                           0|      INDIVIDUAL|           66|                  0|                     34|                89801|                       26155|          0|\n",
            "| 6651430|      11170|         6954|           17877.15585|  59|    BAT2428731|  16.73120146|    C|       C3|           MORTGAGE|   108286.5759|    Source Verified|           n|  Debt consolidation|    18.04373003|                      1|                    0|           7|            0|            13819|        67.46795121|            12|                  w|             288.173196|            0.044131373|       0.107020281|     0.7499709929999999|                           0|      INDIVIDUAL|           39|                  0|                     40|                 9189|                       60214|          0|\n",
            "|14354669|      16890|        13226|    13539.926669999999|  59|    BAT5341619|  15.00830022|    C|       D4|           MORTGAGE|   44234.82545|    Source Verified|           n|Credit card refin...|    17.20988604|                      1|                    3|          13|            1|             1544|        85.25076114|            22|                  w|            129.2395533|            19.30664639|       1294.818751|    0.36895291799999996|                           0|      INDIVIDUAL|           18|                  0|                    430|               126029|                       22579|          0|\n",
            "+--------+-----------+-------------+----------------------+----+--------------+-------------+-----+---------+-------------------+--------------+-------------------+------------+--------------------+---------------+-----------------------+---------------------+------------+-------------+-----------------+-------------------+--------------+-------------------+-----------------------+-----------------------+------------------+-----------------------+----------------------------+----------------+-------------+-------------------+-----------------------+---------------------+----------------------------+-----------+\n",
            "only showing top 5 rows\n",
            "\n"
          ]
        }
      ]
    },
    {
      "cell_type": "code",
      "source": [
        "categorical_columns = [col_name for col_name, dtype in df.dtypes if dtype == \"string\" and col_name != \"ID\"]\n",
        "\n",
        "print(\"Unique values in categorical columns:\")\n",
        "for col_name in categorical_columns:\n",
        "    unique_values = df.select(col_name).distinct()\n",
        "    unique_count = unique_values.count()\n",
        "    unique_list = unique_values.rdd.flatMap(lambda x: x).collect()  # collect unique values\n",
        "    print(f\"{col_name}: {unique_count} unique values\")\n",
        "    print(f\"Values: {unique_list}\")"
      ],
      "metadata": {
        "colab": {
          "base_uri": "https://localhost:8080/"
        },
        "id": "J37PDVkumxK7",
        "outputId": "e3f94ec6-089d-4cd9-8221-8cac09ab885b"
      },
      "execution_count": null,
      "outputs": [
        {
          "output_type": "stream",
          "name": "stdout",
          "text": [
            "Unique values in categorical columns:\n",
            "Batch Enrolled: 42 unique values\n",
            "Values: ['BAT5629144', 'BAT2575549', 'BAT5489674', 'BAT4694572', 'BAT3873588', 'BAT5341619', 'BAT224923', 'BAT1766061', 'BAT2136391', 'BAT3461431', 'BAT4351734', 'BAT3726927', 'BAT2558388', 'BAT1184694', 'BAT2522922', 'BAT2333412', 'BAT2003848', 'BAT2252229', 'BAT4808022', 'BAT2803411', 'BAT4271519', 'BAT3865626', 'BAT1586599', 'BAT5714674', 'BAT2428731', 'BAT1780517', 'BAT1135695', 'BAT4136152', 'BAT1930365', 'BAT1761981', 'BAT4722912', 'BAT3193689', 'BAT5525466', 'BAT5924421', 'BAT5849876', 'BAT1467036', 'BAT2078974', 'BAT2833642', 'BAT1104812', 'BAT5811547', 'BAT5547201', None]\n",
            "Grade: 8 unique values\n",
            "Values: ['F', 'E', 'B', 'D', 'C', 'A', 'G', None]\n",
            "Sub Grade: 36 unique values\n",
            "Values: ['D5', 'F2', 'B4', 'A2', 'E4', 'B2', 'C3', 'D1', 'C4', 'F1', 'D3', 'F5', 'G2', 'B1', 'B3', 'E5', 'C5', 'G3', 'A4', 'F4', 'B5', 'E3', 'G4', 'D2', 'C1', 'F3', 'A5', 'E1', 'C2', 'D4', 'E2', 'G5', 'A3', 'G1', 'A1', None]\n",
            "Employment Duration: 4 unique values\n",
            "Values: ['OWN', 'RENT', 'MORTGAGE', None]\n",
            "Verification Status: 4 unique values\n",
            "Values: ['Verified', 'Source Verified', 'Not Verified', None]\n",
            "Payment Plan: 2 unique values\n",
            "Values: ['n', None]\n",
            "Loan Title: 110 unique values\n",
            "Values: ['Credit Consolidation', 'debt consolidation loan', 'Credit Card Refi', 'get out of debt', 'Credit Cards', 'Debt Reduction', 'Payoff', 'credit pay off', 'Loan', 'Home Improvement', 'Consolidate', 'Dept consolidation', 'debt', 'Home', 'My Loan', 'Refinance Loan', 'Credit Card', 'Personal', 'Credit Card Payoff', 'CC Refi', 'Debt Consolidation', 'Major purchase', 'Credit Card Debt', 'DEBT CONSOLIDATION', 'credit card refinance', 'Personal loan', 'CONSOLIDATE', 'relief', 'Credit Card Consolidation', 'Credit card pay off', 'pay off bills', 'CC Refinance', 'Personal Loan', 'Credit Card consolidation', 'Loan 1', 'CONSOLIDATION', 'CC-Refinance', 'loan1', 'CC Loan', 'refi', 'Debt Consolidation 2013', 'payoff', 'consolidation', 'bills', 'Debt Consolidation Loan', 'consolidate', 'Other', 'Refinance', 'Credit Card Refinance', 'Credit card refinancing', 'Pool', 'Debt Free', 'Credit', 'Loan Consolidation', 'Debt', 'Consolidated', 'CC', 'conso', 'Home Improvement Loan', 'credit card consolidation', 'cards', 'Debt Loan', 'Consolidation', 'Wedding Loan', 'CC Consolidation', 'Home buying', 'debt loan', 'Lending loan', 'House', 'Home improvement', 'Pay Off', 'Freedom', 'Credit Card Refinance Loan', 'Getting Ahead', 'Credit Card Paydown', 'Cards', 'consolidation loan', 'personal', 'Debt Payoff', 'Business', 'vacation', 'Credit Loan', 'Green loan', 'Bill Payoff', 'Vacation', 'credit card', 'Car Loan', 'home improvement', 'Lending Club', 'Credit Card Loan', 'Medical loan', 'Bill Consolidation', 'Credit card refinance', 'Bathroom', 'Credit card payoff', 'Medical', 'debt consolidation', 'Medical expenses', 'Debt payoff', 'Car financing', 'Consolidation Loan', 'Debt consolidation', 'MYLOAN', 'Moving and relocation', 'Home loan', 'Card Consolidation', 'Credit payoff', 'Get Debt Free', 'CC consolidation', None]\n",
            "Initial List Status: 3 unique values\n",
            "Values: ['f', 'w', None]\n",
            "Application Type: 3 unique values\n",
            "Values: ['JOINT', 'INDIVIDUAL', None]\n"
          ]
        }
      ]
    },
    {
      "cell_type": "code",
      "source": [
        "# get basic statistics for numerical columns\n",
        "numerical_columns = [col_name for col_name, dtype in df.dtypes if dtype in [\"int\", \"double\"]]\n",
        "print(\"Basic statistics for numerical columns:\")\n",
        "df.select(numerical_columns).describe().show()\n",
        "# get basic statistics for categorical columns\n",
        "categorical_columns = [col_name for col_name, dtype in df.dtypes if dtype == \"string\" and col_name != \"id\"]\n",
        "\n",
        "print(\"Basic statistics for categorical columns:\")\n",
        "for col_name in categorical_columns:\n",
        "    # count occurrences of each unique value in the column\n",
        "    value_counts = df.groupBy(col_name).count().orderBy('count', ascending=False)\n",
        "    print(f\"\\nStatistics for {col_name}:\")\n",
        "    value_counts.show()"
      ],
      "metadata": {
        "colab": {
          "base_uri": "https://localhost:8080/"
        },
        "id": "_k1TIDR9nlH9",
        "outputId": "7d9c98cf-ef70-47f0-8397-357bf6826c8f"
      },
      "execution_count": null,
      "outputs": [
        {
          "output_type": "stream",
          "name": "stdout",
          "text": [
            "Basic statistics for numerical columns:\n",
            "+-------+------------------+------------------+----------------------+------------------+------------------+-----------------+-----------------+-----------------------+---------------------+-----------------+-------------------+-----------------+-------------------+------------------+-----------------------+-----------------------+-----------------+-----------------------+----------------------------+-----------------+--------------------+-----------------------+---------------------+----------------------------+-------------------+\n",
            "|summary|       Loan Amount|     Funded Amount|Funded Amount Investor|              Term|     Interest Rate|   Home Ownership|  Debit to Income|Delinquency - two years|Inquires - six months|     Open Account|      Public Record|Revolving Balance|Revolving Utilities|    Total Accounts|Total Received Interest|Total Received Late Fee|       Recoveries|Collection Recovery Fee|Collection 12 months Medical|    Last week Pay| Accounts Delinquent|Total Collection Amount|Total Current Balance|Total Revolving Credit Limit|        Loan Status|\n",
            "+-------+------------------+------------------+----------------------+------------------+------------------+-----------------+-----------------+-----------------------+---------------------+-----------------+-------------------+-----------------+-------------------+------------------+-----------------------+-----------------------+-----------------+-----------------------+----------------------------+-----------------+--------------------+-----------------------+---------------------+----------------------------+-------------------+\n",
            "|  count|             96376|             96376|                 96376|             96376|             96376|            96376|            96376|                  96376|                96376|            96376|              96376|            96376|              96376|             96376|                  96376|                  96376|            96376|                  96376|                       96376|            96376|               96376|                  96376|                96376|                       96376|              67463|\n",
            "|   mean|16715.439258736616|15725.392400597659|    14657.720783732888|57.084585373952024|11.948654248778377|80374.17631255044|22.95724582263304|     0.3286087822694447|     0.18509794969702|14.08562297667469|0.09033369303561052|8370.779768822113| 53.180635101679606|19.159116377521375|     2023.6207958954142|     1.0776363453923965|56.97156887923002|     1.2055652860106074|         0.02078318253507097| 69.3165414626048|2.905287623474724E-4|      150.4518863617498|   157630.99618162197|          23690.250332032872|0.09250996842713784|\n",
            "| stddev| 8367.617027470007|  8175.01732720871|     6922.046850856338| 5.896937990660606|3.7806661707599907|45090.36445227136|8.530054844720825|     0.8063236444606856|   0.5409991014408851|6.198314853368937|0.36001952488387107|8937.714084273948| 22.622700110280576| 8.777422369562967|      2189.868832871037|      5.106275568881299|351.0029902477448|      8.792240226637235|         0.14265851893951392|43.16302186772047| 0.01704251651240302|      798.2774678924086|   139093.50481308537|          21353.728537558196|0.28974664553845464|\n",
            "|    min|              1000|              1000|                1000.0|                36|              5.32|      14573.53717|      0.675299086|                      0|                    0|                2|                  0|                0|                0.0|                 4|            4.736746327|                    0.0|              0.0|                    0.0|                           0|                0|                   0|                      0|                  617|                        1000|                  0|\n",
            "|    max|             35000|             35000|               35000.0|                60|             27.31|       406944.859|      39.62997675|                      9|                    5|               37|                  4|           188657| 100.88004980000001|                73|            14313.81611|     42.618882299999996|      4354.467419|                743.166|                           1|              161|                   1|                  27076|              1183282|                      233500|                  1|\n",
            "+-------+------------------+------------------+----------------------+------------------+------------------+-----------------+-----------------+-----------------------+---------------------+-----------------+-------------------+-----------------+-------------------+------------------+-----------------------+-----------------------+-----------------+-----------------------+----------------------------+-----------------+--------------------+-----------------------+---------------------+----------------------------+-------------------+\n",
            "\n",
            "Basic statistics for categorical columns:\n",
            "\n",
            "Statistics for ID:\n",
            "+--------+-----+\n",
            "|      ID|count|\n",
            "+--------+-----+\n",
            "|       0|28913|\n",
            "|37363173|    1|\n",
            "| 2373687|    1|\n",
            "|65903133|    1|\n",
            "| 2515005|    1|\n",
            "|59060302|    1|\n",
            "| 5809673|    1|\n",
            "| 3780439|    1|\n",
            "|60861061|    1|\n",
            "|50571017|    1|\n",
            "|13505443|    1|\n",
            "|33816065|    1|\n",
            "|28472581|    1|\n",
            "|36827909|    1|\n",
            "|14804893|    1|\n",
            "|21080117|    1|\n",
            "|19272165|    1|\n",
            "|36553456|    1|\n",
            "|32314763|    1|\n",
            "|59455757|    1|\n",
            "+--------+-----+\n",
            "only showing top 20 rows\n",
            "\n",
            "\n",
            "Statistics for Batch Enrolled:\n",
            "+--------------+-----+\n",
            "|Batch Enrolled|count|\n",
            "+--------------+-----+\n",
            "|          NULL|28913|\n",
            "|    BAT3873588| 5249|\n",
            "|    BAT1586599| 4546|\n",
            "|    BAT1104812| 4337|\n",
            "|    BAT2252229| 3854|\n",
            "|    BAT1780517| 3569|\n",
            "|    BAT2803411| 3496|\n",
            "|    BAT1184694| 3384|\n",
            "|    BAT2078974| 3364|\n",
            "|    BAT4694572| 3305|\n",
            "|    BAT2575549| 3032|\n",
            "|    BAT4271519| 2991|\n",
            "|    BAT2558388| 2829|\n",
            "|    BAT3193689| 2754|\n",
            "|    BAT3726927| 2625|\n",
            "|    BAT1930365| 2535|\n",
            "|    BAT2333412| 2528|\n",
            "|    BAT4136152| 2522|\n",
            "|    BAT2136391| 2494|\n",
            "|    BAT5489674| 2430|\n",
            "+--------------+-----+\n",
            "only showing top 20 rows\n",
            "\n",
            "\n",
            "Statistics for Grade:\n",
            "+-----+-----+\n",
            "|Grade|count|\n",
            "+-----+-----+\n",
            "| NULL|28913|\n",
            "|    C|27189|\n",
            "|    B|26738|\n",
            "|    A|17174|\n",
            "|    D|12211|\n",
            "|    E| 9054|\n",
            "|    F| 3128|\n",
            "|    G|  882|\n",
            "+-----+-----+\n",
            "\n",
            "\n",
            "Statistics for Sub Grade:\n",
            "+---------+-----+\n",
            "|Sub Grade|count|\n",
            "+---------+-----+\n",
            "|     NULL|28913|\n",
            "|       B4| 6364|\n",
            "|       C1| 6003|\n",
            "|       B3| 5708|\n",
            "|       A5| 5052|\n",
            "|       B2| 4977|\n",
            "|       B5| 4854|\n",
            "|       C4| 4746|\n",
            "|       C2| 4671|\n",
            "|       D1| 4637|\n",
            "|       C3| 4508|\n",
            "|       B1| 4202|\n",
            "|       C5| 3636|\n",
            "|       A4| 3281|\n",
            "|       D4| 2939|\n",
            "|       D2| 2875|\n",
            "|       D5| 2814|\n",
            "|       A2| 2658|\n",
            "|       D3| 2642|\n",
            "|       E2| 2471|\n",
            "+---------+-----+\n",
            "only showing top 20 rows\n",
            "\n",
            "\n",
            "Statistics for Employment Duration:\n",
            "+-------------------+-----+\n",
            "|Employment Duration|count|\n",
            "+-------------------+-----+\n",
            "|           MORTGAGE|51881|\n",
            "|               RENT|34683|\n",
            "|               NULL|28913|\n",
            "|                OWN| 9812|\n",
            "+-------------------+-----+\n",
            "\n",
            "\n",
            "Statistics for Verification Status:\n",
            "+-------------------+-----+\n",
            "|Verification Status|count|\n",
            "+-------------------+-----+\n",
            "|    Source Verified|46662|\n",
            "|               NULL|28913|\n",
            "|           Verified|26059|\n",
            "|       Not Verified|23655|\n",
            "+-------------------+-----+\n",
            "\n",
            "\n",
            "Statistics for Payment Plan:\n",
            "+------------+-----+\n",
            "|Payment Plan|count|\n",
            "+------------+-----+\n",
            "|           n|96376|\n",
            "|        NULL|28913|\n",
            "+------------+-----+\n",
            "\n",
            "\n",
            "Statistics for Loan Title:\n",
            "+--------------------+-----+\n",
            "|          Loan Title|count|\n",
            "+--------------------+-----+\n",
            "|Credit card refin...|42084|\n",
            "|  Debt consolidation|37100|\n",
            "|                NULL|28913|\n",
            "|  Debt Consolidation| 4688|\n",
            "|               Other| 3561|\n",
            "|    Home improvement| 3293|\n",
            "|      Major purchase|  746|\n",
            "|    Medical expenses|  379|\n",
            "|            Business|  300|\n",
            "|Moving and reloca...|  253|\n",
            "|       Car financing|  230|\n",
            "|            Vacation|  190|\n",
            "|  debt consolidation|  174|\n",
            "|       Consolidation|  171|\n",
            "|         Home buying|  152|\n",
            "|       Personal Loan|  115|\n",
            "|Debt Consolidatio...|  110|\n",
            "|Credit Card Conso...|  106|\n",
            "|    Home Improvement|   94|\n",
            "|         Consolidate|   87|\n",
            "+--------------------+-----+\n",
            "only showing top 20 rows\n",
            "\n",
            "\n",
            "Statistics for Initial List Status:\n",
            "+-------------------+-----+\n",
            "|Initial List Status|count|\n",
            "+-------------------+-----+\n",
            "|                  w|52147|\n",
            "|                  f|44229|\n",
            "|               NULL|28913|\n",
            "+-------------------+-----+\n",
            "\n",
            "\n",
            "Statistics for Application Type:\n",
            "+----------------+-----+\n",
            "|Application Type|count|\n",
            "+----------------+-----+\n",
            "|      INDIVIDUAL|96223|\n",
            "|            NULL|28913|\n",
            "|           JOINT|  153|\n",
            "+----------------+-----+\n",
            "\n"
          ]
        }
      ]
    },
    {
      "cell_type": "code",
      "source": [
        "from pyspark.sql.functions import col\n",
        "from functools import reduce  # import reduce function\n",
        "\n",
        "# filter rows where all columns are null or equal to \"None\"\n",
        "null_or_none_rows = df.filter(\n",
        "    reduce(lambda a, b: a & b, [((col(c).isNull()) | (col(c) == \"None\")) for c in df.columns])\n",
        ")\n",
        "\n",
        "# count the number of rows where all columns are null or equal to \"None\"\n",
        "num_null_or_none_rows = null_or_none_rows.count()\n",
        "\n",
        "print(f\"Number of rows where all columns are null or equal to 'None': {num_null_or_none_rows}\")\n",
        "# get the second column name\n",
        "second_column = df.columns[1]\n",
        "\n",
        "# filter rows where the second column is null\n",
        "null_second_column_rows = df.filter(col(second_column).isNull())\n",
        "\n",
        "# show 5 rows where the second column is null\n",
        "null_second_column_rows.show(5)\n",
        "\n"
      ],
      "metadata": {
        "colab": {
          "base_uri": "https://localhost:8080/"
        },
        "id": "eXQHFdP1oRt7",
        "outputId": "7815a5e6-7b8b-4365-9dc3-8b67b67a1d06"
      },
      "execution_count": null,
      "outputs": [
        {
          "output_type": "stream",
          "name": "stdout",
          "text": [
            "Number of rows where all columns are null or equal to 'None': 0\n",
            "+---+-----------+-------------+----------------------+----+--------------+-------------+-----+---------+-------------------+--------------+-------------------+------------+----------+---------------+-----------------------+---------------------+------------+-------------+-----------------+-------------------+--------------+-------------------+-----------------------+-----------------------+----------+-----------------------+----------------------------+----------------+-------------+-------------------+-----------------------+---------------------+----------------------------+-----------+\n",
            "| ID|Loan Amount|Funded Amount|Funded Amount Investor|Term|Batch Enrolled|Interest Rate|Grade|Sub Grade|Employment Duration|Home Ownership|Verification Status|Payment Plan|Loan Title|Debit to Income|Delinquency - two years|Inquires - six months|Open Account|Public Record|Revolving Balance|Revolving Utilities|Total Accounts|Initial List Status|Total Received Interest|Total Received Late Fee|Recoveries|Collection Recovery Fee|Collection 12 months Medical|Application Type|Last week Pay|Accounts Delinquent|Total Collection Amount|Total Current Balance|Total Revolving Credit Limit|Loan Status|\n",
            "+---+-----------+-------------+----------------------+----+--------------+-------------+-----+---------+-------------------+--------------+-------------------+------------+----------+---------------+-----------------------+---------------------+------------+-------------+-----------------+-------------------+--------------+-------------------+-----------------------+-----------------------+----------+-----------------------+----------------------------+----------------+-------------+-------------------+-----------------------+---------------------+----------------------------+-----------+\n",
            "|  0|       NULL|         NULL|                  NULL|NULL|          NULL|         NULL| NULL|     NULL|               NULL|          NULL|               NULL|        NULL|      NULL|           NULL|                   NULL|                 NULL|        NULL|         NULL|             NULL|               NULL|          NULL|               NULL|                   NULL|                   NULL|      NULL|                   NULL|                        NULL|            NULL|         NULL|               NULL|                   NULL|                 NULL|                        NULL|       NULL|\n",
            "|  0|       NULL|         NULL|                  NULL|NULL|          NULL|         NULL| NULL|     NULL|               NULL|          NULL|               NULL|        NULL|      NULL|           NULL|                   NULL|                 NULL|        NULL|         NULL|             NULL|               NULL|          NULL|               NULL|                   NULL|                   NULL|      NULL|                   NULL|                        NULL|            NULL|         NULL|               NULL|                   NULL|                 NULL|                        NULL|       NULL|\n",
            "|  0|       NULL|         NULL|                  NULL|NULL|          NULL|         NULL| NULL|     NULL|               NULL|          NULL|               NULL|        NULL|      NULL|           NULL|                   NULL|                 NULL|        NULL|         NULL|             NULL|               NULL|          NULL|               NULL|                   NULL|                   NULL|      NULL|                   NULL|                        NULL|            NULL|         NULL|               NULL|                   NULL|                 NULL|                        NULL|       NULL|\n",
            "|  0|       NULL|         NULL|                  NULL|NULL|          NULL|         NULL| NULL|     NULL|               NULL|          NULL|               NULL|        NULL|      NULL|           NULL|                   NULL|                 NULL|        NULL|         NULL|             NULL|               NULL|          NULL|               NULL|                   NULL|                   NULL|      NULL|                   NULL|                        NULL|            NULL|         NULL|               NULL|                   NULL|                 NULL|                        NULL|       NULL|\n",
            "|  0|       NULL|         NULL|                  NULL|NULL|          NULL|         NULL| NULL|     NULL|               NULL|          NULL|               NULL|        NULL|      NULL|           NULL|                   NULL|                 NULL|        NULL|         NULL|             NULL|               NULL|          NULL|               NULL|                   NULL|                   NULL|      NULL|                   NULL|                        NULL|            NULL|         NULL|               NULL|                   NULL|                 NULL|                        NULL|       NULL|\n",
            "+---+-----------+-------------+----------------------+----+--------------+-------------+-----+---------+-------------------+--------------+-------------------+------------+----------+---------------+-----------------------+---------------------+------------+-------------+-----------------+-------------------+--------------+-------------------+-----------------------+-----------------------+----------+-----------------------+----------------------------+----------------+-------------+-------------------+-----------------------+---------------------+----------------------------+-----------+\n",
            "only showing top 5 rows\n",
            "\n"
          ]
        }
      ]
    },
    {
      "cell_type": "code",
      "source": [
        "id_zero_rows = df.filter(col(\"id\") == 0)\n",
        "\n",
        "# count the number of rows where 'id' is 0\n",
        "num_id_zero_rows = id_zero_rows.count()\n",
        "\n",
        "print(f\"Number of rows where 'id' is 0: {num_id_zero_rows}\")\n",
        "# get the total number of rows\n",
        "total_rows = df.count()\n",
        "\n",
        "print(f\"Total number of rows: {total_rows}\")\n",
        "\n",
        "# count the number of null values in each column\n",
        "null_counts = df.select([count(when(col(c).isNull(), c)).alias(c) for c in df.columns])\n",
        "\n",
        "null_counts.show()"
      ],
      "metadata": {
        "colab": {
          "base_uri": "https://localhost:8080/"
        },
        "id": "BWrBSGa9owyF",
        "outputId": "6e68ad1b-4bcf-4260-ad27-ddc497272037"
      },
      "execution_count": null,
      "outputs": [
        {
          "output_type": "stream",
          "name": "stdout",
          "text": [
            "Number of rows where 'id' is 0: 28913\n",
            "Total number of rows: 125289\n",
            "+---+-----------+-------------+----------------------+-----+--------------+-------------+-----+---------+-------------------+--------------+-------------------+------------+----------+---------------+-----------------------+---------------------+------------+-------------+-----------------+-------------------+--------------+-------------------+-----------------------+-----------------------+----------+-----------------------+----------------------------+----------------+-------------+-------------------+-----------------------+---------------------+----------------------------+-----------+\n",
            "| ID|Loan Amount|Funded Amount|Funded Amount Investor| Term|Batch Enrolled|Interest Rate|Grade|Sub Grade|Employment Duration|Home Ownership|Verification Status|Payment Plan|Loan Title|Debit to Income|Delinquency - two years|Inquires - six months|Open Account|Public Record|Revolving Balance|Revolving Utilities|Total Accounts|Initial List Status|Total Received Interest|Total Received Late Fee|Recoveries|Collection Recovery Fee|Collection 12 months Medical|Application Type|Last week Pay|Accounts Delinquent|Total Collection Amount|Total Current Balance|Total Revolving Credit Limit|Loan Status|\n",
            "+---+-----------+-------------+----------------------+-----+--------------+-------------+-----+---------+-------------------+--------------+-------------------+------------+----------+---------------+-----------------------+---------------------+------------+-------------+-----------------+-------------------+--------------+-------------------+-----------------------+-----------------------+----------+-----------------------+----------------------------+----------------+-------------+-------------------+-----------------------+---------------------+----------------------------+-----------+\n",
            "|  0|      28913|        28913|                 28913|28913|         28913|        28913|28913|    28913|              28913|         28913|              28913|       28913|     28913|          28913|                  28913|                28913|       28913|        28913|            28913|              28913|         28913|              28913|                  28913|                  28913|     28913|                  28913|                       28913|           28913|        28913|              28913|                  28913|                28913|                       28913|      57826|\n",
            "+---+-----------+-------------+----------------------+-----+--------------+-------------+-----+---------+-------------------+--------------+-------------------+------------+----------+---------------+-----------------------+---------------------+------------+-------------+-----------------+-------------------+--------------+-------------------+-----------------------+-----------------------+----------+-----------------------+----------------------------+----------------+-------------+-------------------+-----------------------+---------------------+----------------------------+-----------+\n",
            "\n"
          ]
        }
      ]
    },
    {
      "cell_type": "code",
      "source": [
        "# filter out rows where 'id' is 0\n",
        "df_filtered = df.filter(col(\"id\") != 0)\n",
        "\n",
        "df_filtered.show(5)\n"
      ],
      "metadata": {
        "colab": {
          "base_uri": "https://localhost:8080/"
        },
        "id": "TXL0l1nwpR5V",
        "outputId": "24c0ba81-b741-453f-b35d-7a00fcc082ef"
      },
      "execution_count": null,
      "outputs": [
        {
          "output_type": "stream",
          "name": "stdout",
          "text": [
            "+--------+-----------+-------------+----------------------+----+--------------+-------------+-----+---------+-------------------+--------------+-------------------+------------+--------------------+---------------+-----------------------+---------------------+------------+-------------+-----------------+-------------------+--------------+-------------------+-----------------------+-----------------------+------------------+-----------------------+----------------------------+----------------+-------------+-------------------+-----------------------+---------------------+----------------------------+-----------+\n",
            "|      ID|Loan Amount|Funded Amount|Funded Amount Investor|Term|Batch Enrolled|Interest Rate|Grade|Sub Grade|Employment Duration|Home Ownership|Verification Status|Payment Plan|          Loan Title|Debit to Income|Delinquency - two years|Inquires - six months|Open Account|Public Record|Revolving Balance|Revolving Utilities|Total Accounts|Initial List Status|Total Received Interest|Total Received Late Fee|        Recoveries|Collection Recovery Fee|Collection 12 months Medical|Application Type|Last week Pay|Accounts Delinquent|Total Collection Amount|Total Current Balance|Total Revolving Credit Limit|Loan Status|\n",
            "+--------+-----------+-------------+----------------------+----+--------------+-------------+-----+---------+-------------------+--------------+-------------------+------------+--------------------+---------------+-----------------------+---------------------+------------+-------------+-----------------+-------------------+--------------+-------------------+-----------------------+-----------------------+------------------+-----------------------+----------------------------+----------------+-------------+-------------------+-----------------------+---------------------+----------------------------+-----------+\n",
            "|65087372|      10000|        32236|           12329.36286|  59|    BAT2522922|  11.13500686|    B|       C4|           MORTGAGE|   176346.6267|       Not Verified|           n|  Debt Consolidation|    16.28475781|                      1|                    0|          13|            0|            24246|        74.93255103|             7|                  w|            2929.646315|    0.10205519800000001|       2.498290962|             0.79372376|                           0|      INDIVIDUAL|           49|                  0|                     31|               311301|                        6619|          0|\n",
            "| 1450153|       3609|        11940|           12191.99692|  59|    BAT1586599|  12.23756263|    C|       D3|               RENT|     39833.921|    Source Verified|           n|  Debt consolidation|    15.41240945|                      0|                    0|          12|            0|              812|        78.29718601|            13|                  f|      772.7693849999999|             0.03618117|       2.377214756|            0.974821103|                           0|      INDIVIDUAL|          109|                  0|                     53|               182610|                       20885|          0|\n",
            "| 1969101|      28276|         9311|           21603.22455|  59|    BAT2136391|  12.54588365|    F|       D4|           MORTGAGE|   91506.69105|    Source Verified|           n|  Debt Consolidation|    28.13761862|                      0|                    0|          14|            0|             1843|        2.073039873|            20|                  w|            863.3243956|            18.77866007|4.3162773439999995|            1.020074954|                           0|      INDIVIDUAL|           66|                  0|                     34|                89801|                       26155|          0|\n",
            "| 6651430|      11170|         6954|           17877.15585|  59|    BAT2428731|  16.73120146|    C|       C3|           MORTGAGE|   108286.5759|    Source Verified|           n|  Debt consolidation|    18.04373003|                      1|                    0|           7|            0|            13819|        67.46795121|            12|                  w|             288.173196|            0.044131373|       0.107020281|     0.7499709929999999|                           0|      INDIVIDUAL|           39|                  0|                     40|                 9189|                       60214|          0|\n",
            "|14354669|      16890|        13226|    13539.926669999999|  59|    BAT5341619|  15.00830022|    C|       D4|           MORTGAGE|   44234.82545|    Source Verified|           n|Credit card refin...|    17.20988604|                      1|                    3|          13|            1|             1544|        85.25076114|            22|                  w|            129.2395533|            19.30664639|       1294.818751|    0.36895291799999996|                           0|      INDIVIDUAL|           18|                  0|                    430|               126029|                       22579|          0|\n",
            "+--------+-----------+-------------+----------------------+----+--------------+-------------+-----+---------+-------------------+--------------+-------------------+------------+--------------------+---------------+-----------------------+---------------------+------------+-------------+-----------------+-------------------+--------------+-------------------+-----------------------+-----------------------+------------------+-----------------------+----------------------------+----------------+-------------+-------------------+-----------------------+---------------------+----------------------------+-----------+\n",
            "only showing top 5 rows\n",
            "\n"
          ]
        }
      ]
    }
  ]
}